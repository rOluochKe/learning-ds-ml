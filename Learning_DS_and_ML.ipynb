{
  "nbformat": 4,
  "nbformat_minor": 0,
  "metadata": {
    "colab": {
      "provenance": [],
      "gpuType": "T4",
      "authorship_tag": "ABX9TyMibdYfIKJFqAfGJZBsFqn9",
      "include_colab_link": true
    },
    "kernelspec": {
      "name": "python3",
      "display_name": "Python 3"
    },
    "language_info": {
      "name": "python"
    }
  },
  "cells": [
    {
      "cell_type": "markdown",
      "metadata": {
        "id": "view-in-github",
        "colab_type": "text"
      },
      "source": [
        "<a href=\"https://colab.research.google.com/github/rOluochKe/learning-ds-ml/blob/main/Learning_DS_and_ML.ipynb\" target=\"_parent\"><img src=\"https://colab.research.google.com/assets/colab-badge.svg\" alt=\"Open In Colab\"/></a>"
      ]
    },
    {
      "cell_type": "markdown",
      "source": [
        "**Chapter One:** Environment Setup"
      ],
      "metadata": {
        "id": "6475wnLavHGS"
      }
    },
    {
      "cell_type": "code",
      "source": [
        "import tensorflow as tf\n",
        "print(tf.__version__)"
      ],
      "metadata": {
        "colab": {
          "base_uri": "https://localhost:8080/"
        },
        "id": "Z2X5WHQVurOb",
        "outputId": "f1a22c32-ad13-4ef4-ff10-27649600e1c5"
      },
      "execution_count": null,
      "outputs": [
        {
          "output_type": "stream",
          "name": "stdout",
          "text": [
            "2.12.0\n"
          ]
        }
      ]
    },
    {
      "cell_type": "markdown",
      "source": [
        "**Chapter Two:** Python Crash Course"
      ],
      "metadata": {
        "id": "-Xu60Vo1vlMm"
      }
    },
    {
      "cell_type": "code",
      "source": [
        "### Variables and data types\n",
        "first_name = \"Joseph\"\n",
        "print(type(first_name))\n",
        "\n",
        "age = 35\n",
        "print(type(age))\n",
        "\n",
        "weight = 75.04\n",
        "print(type(weight))\n",
        "\n",
        "married = False\n",
        "print(type(married))\n",
        "\n",
        "cars = [\"audi\", \"benz\", \"jeep\"]\n",
        "print(type(cars))\n",
        "\n",
        "days = (\"Mon\", \"Tue\", \"Wed\", \"Thurs\", \"Fri\")\n",
        "print(type(days))\n",
        "\n",
        "shopping_items = {1: \"bread\", 2: \"milk\", 3: \"sugar\"}\n",
        "print(type(shopping_items))"
      ],
      "metadata": {
        "colab": {
          "base_uri": "https://localhost:8080/"
        },
        "id": "PiS5FUTPxKGn",
        "outputId": "b4b5a971-9485-41c2-a36d-5a1c66104cf5"
      },
      "execution_count": null,
      "outputs": [
        {
          "output_type": "stream",
          "name": "stdout",
          "text": [
            "<class 'str'>\n",
            "<class 'int'>\n",
            "<class 'float'>\n",
            "<class 'bool'>\n",
            "<class 'list'>\n",
            "<class 'tuple'>\n",
            "<class 'dict'>\n"
          ]
        }
      ]
    },
    {
      "cell_type": "code",
      "source": [
        "### Arithetic operators\n",
        "x = 20\n",
        "y = 15\n",
        "print(x + y)\n",
        "print(x - y)\n",
        "print(x * y)\n",
        "print(x / y)\n",
        "print(x % y)\n",
        "print(x ** y)"
      ],
      "metadata": {
        "colab": {
          "base_uri": "https://localhost:8080/"
        },
        "id": "nQZwji-RymnN",
        "outputId": "2ea8d591-37df-4342-da69-3b54377f008b"
      },
      "execution_count": null,
      "outputs": [
        {
          "output_type": "stream",
          "name": "stdout",
          "text": [
            "35\n",
            "5\n",
            "300\n",
            "1.3333333333333333\n",
            "5\n",
            "32768000000000000000\n"
          ]
        }
      ]
    },
    {
      "cell_type": "code",
      "source": [
        "### Logical operators\n",
        "### AND, and, OR, or, NOT, not\n",
        "# (a and b) = False, (a and a) = True\n",
        "# (a or b) = True\n",
        "# not(a and b) = True\n",
        "\n",
        "X = True\n",
        "Y = False\n",
        "print(X and Y)\n",
        "print(X or Y)\n",
        "print(not(X and Y))"
      ],
      "metadata": {
        "colab": {
          "base_uri": "https://localhost:8080/"
        },
        "id": "-Vzfh1cEzR0r",
        "outputId": "9fc50b8b-b086-4be3-b708-ecae4f523ed5"
      },
      "execution_count": null,
      "outputs": [
        {
          "output_type": "stream",
          "name": "stdout",
          "text": [
            "False\n",
            "True\n",
            "True\n"
          ]
        }
      ]
    },
    {
      "cell_type": "code",
      "source": [
        "### Comparison operators\n",
        "X = 20\n",
        "Y = 35\n",
        "print(X == Y)\n",
        "print(X != Y)\n",
        "print(X > Y)\n",
        "print(X < Y)\n",
        "print(X >= Y)\n",
        "print(X <= Y)"
      ],
      "metadata": {
        "colab": {
          "base_uri": "https://localhost:8080/"
        },
        "id": "vcSHJ8AU0rEO",
        "outputId": "fadb7961-b2a4-426f-8879-9a78b3ee9b65"
      },
      "execution_count": null,
      "outputs": [
        {
          "output_type": "stream",
          "name": "stdout",
          "text": [
            "False\n",
            "True\n",
            "False\n",
            "True\n",
            "False\n",
            "True\n"
          ]
        }
      ]
    },
    {
      "cell_type": "code",
      "source": [
        "### Assignment Operators\n",
        "# Assignment =\n",
        "# Divide and assign /=\n",
        "# Take modulus and assign %=\n",
        "# Take exponent and assign\n",
        "X = 20; Y = 10\n",
        "R = X + Y\n",
        "print (R)\n",
        "\n",
        "X = 20;\n",
        "Y = 10\n",
        "X += Y\n",
        "print (X)\n",
        "\n",
        "X = 20;\n",
        "Y = 10\n",
        "X -= Y\n",
        "print (X)\n",
        "\n",
        "X = 20;\n",
        "Y = 10\n",
        "X *= Y\n",
        "print (X)\n",
        "\n",
        "X = 20;\n",
        "Y = 10\n",
        "X /= Y\n",
        "print (X)\n",
        "\n",
        "X = 20;\n",
        "Y = 10\n",
        "X %= Y\n",
        "print (X)\n",
        "\n",
        "X = 20;\n",
        "Y = 10\n",
        "X **= Y\n",
        "print (X)"
      ],
      "metadata": {
        "colab": {
          "base_uri": "https://localhost:8080/"
        },
        "id": "oiQkibQE1Nbi",
        "outputId": "5c59325f-d87d-4233-f0ac-7caf2f33d280"
      },
      "execution_count": null,
      "outputs": [
        {
          "output_type": "stream",
          "name": "stdout",
          "text": [
            "30\n",
            "30\n",
            "10\n",
            "200\n",
            "2.0\n",
            "0\n",
            "10240000000000\n"
          ]
        }
      ]
    },
    {
      "cell_type": "code",
      "source": [
        "### Membership operator\n",
        "# in operator\n",
        "# not in operator\n",
        "\n",
        "days = (\"Sunday\" , \"Monday\" , \"Tuesday\" , \"Wednesday\" , \"Thursday\" , \"Friday\" , \"Saturday\")\n",
        "print (\"Sunday\" in days)\n",
        "\n",
        "print (\"Xunday\" not in days)"
      ],
      "metadata": {
        "colab": {
          "base_uri": "https://localhost:8080/"
        },
        "id": "Q6wvmIJu2Rbe",
        "outputId": "9043cbc9-1413-49c9-960a-180d2c9582c7"
      },
      "execution_count": null,
      "outputs": [
        {
          "output_type": "stream",
          "name": "stdout",
          "text": [
            "True\n",
            "True\n"
          ]
        }
      ]
    },
    {
      "cell_type": "code",
      "source": [
        "### Conditional statements\n",
        "if 10 > 5:\n",
        "  print(\"Ten is greater than 10\")\n",
        "\n",
        "if 5 > 10:\n",
        "  print(\"5 is greater than 10\")\n",
        "else:\n",
        "  print(\"10 is greater than 5\")\n",
        "\n",
        "if 5 > 10:\n",
        "  print(\"5 is greater than 10\")\n",
        "elif 8 < 4:\n",
        "  print(\"8 is smaller than 4\")\n",
        "else:\n",
        "  print(\"5 is not greater than 10 and 8 is not smaller than 4\")"
      ],
      "metadata": {
        "colab": {
          "base_uri": "https://localhost:8080/"
        },
        "id": "wGCXfje33BxD",
        "outputId": "96d228c2-e352-4d6e-95e5-e486d1a1c337"
      },
      "execution_count": null,
      "outputs": [
        {
          "output_type": "stream",
          "name": "stdout",
          "text": [
            "Ten is greater than 10\n",
            "10 is greater than 5\n",
            "5 is not greater than 10 and 8 is not smaller than 4\n"
          ]
        }
      ]
    },
    {
      "cell_type": "code",
      "source": [
        "### Iteration statements\n",
        "print(\"for loop\")\n",
        "items = range(5)\n",
        "for item in items:\n",
        "  print(item)\n",
        "print(\"while loop\")\n",
        "c = 0\n",
        "while c < 10:\n",
        "  print(c)\n",
        "  c = c +1"
      ],
      "metadata": {
        "colab": {
          "base_uri": "https://localhost:8080/"
        },
        "id": "YBbwxf7k3y4W",
        "outputId": "144eeb74-9ffd-4363-d787-a14ec4f9fddb"
      },
      "execution_count": null,
      "outputs": [
        {
          "output_type": "stream",
          "name": "stdout",
          "text": [
            "for loop\n",
            "0\n",
            "1\n",
            "2\n",
            "3\n",
            "4\n",
            "while loop\n",
            "0\n",
            "1\n",
            "2\n",
            "3\n",
            "4\n",
            "5\n",
            "6\n",
            "7\n",
            "8\n",
            "9\n"
          ]
        }
      ]
    },
    {
      "cell_type": "code",
      "source": [
        "### Functions\n",
        "def myfuncparam(num):\n",
        "  print('This is a function with parameter value: ' + num)\n",
        "\n",
        "### function call\n",
        "myfuncparam('Parameter 1')"
      ],
      "metadata": {
        "colab": {
          "base_uri": "https://localhost:8080/"
        },
        "id": "OYqqJzsQ4wzS",
        "outputId": "61f93ea4-a755-4836-f515-a60962b586ff"
      },
      "execution_count": null,
      "outputs": [
        {
          "output_type": "stream",
          "name": "stdout",
          "text": [
            "This is a function with parameter value: Parameter 1\n"
          ]
        }
      ]
    },
    {
      "cell_type": "code",
      "source": [
        "### Objects and Classes\n",
        "class Fruit:\n",
        "  name = \"apple\"\n",
        "  price = 10\n",
        "\n",
        "  def eat_fruit(self):\n",
        "    print(\"Fruit has been eaten\")\n",
        "\n",
        "f = Fruit()\n",
        "f.eat_fruit()\n",
        "print(f.name)\n",
        "print(f.price)\n",
        "\n",
        "### Contructor\n",
        "print('constructor ===============')\n",
        "class Fruit:\n",
        "  name = \"apple\"\n",
        "  price = 10\n",
        "\n",
        "  def __init__(self, fruit_name, fruit_price):\n",
        "    Fruit.name = fruit_name\n",
        "    Fruit.price = fruit_price\n",
        "\n",
        "  def eat_fruit(self):\n",
        "    print(\"Fruit has been eaten\")\n",
        "\n",
        "f = Fruit(\"orange\", 15)\n",
        "f.eat_fruit()\n",
        "print(f.name)\n",
        "print(f.price)"
      ],
      "metadata": {
        "colab": {
          "base_uri": "https://localhost:8080/"
        },
        "id": "4MZgHIT95ANo",
        "outputId": "fe69b49f-62b5-4e21-da2b-6af1e736b4fb"
      },
      "execution_count": null,
      "outputs": [
        {
          "output_type": "stream",
          "name": "stdout",
          "text": [
            "Fruit has been eaten\n",
            "apple\n",
            "10\n",
            "constructor ===============\n",
            "Fruit has been eaten\n",
            "orange\n",
            "15\n"
          ]
        }
      ]
    },
    {
      "cell_type": "markdown",
      "source": [
        "* NumPy: is one of the most commonly used libraries for numeric and scientific computing.\n",
        "* Matplotlib: is the de facto standard for static data visualization in Python, which is the first step in data science and machine learning.\n",
        "* Seaborn: library is built on top of the Matplotlib library and contains all the plotting capabilities of Matplotlib. However, with Seaborn, you can plot much more pleasing and aesthetic graphs with the help of Seaborn default styles and color palettes.\n",
        "* Pandas: like Seaborn, is based on the Matplotlib library and offers utilities that can be used to plot different types of static plots in a single line of codes. With Pandas, you can import data in various formats such as CSV (Comma Separated View) and TSV (Tab Separated View) and can plot a variety of data visualizations\n",
        "via these data sources.\n",
        "* Scikit Learn, also called sklearn: is an extremely useful library for data science and machine learning in Python. Sklearn contains many built-in modules that can be used to perform data preparation tasks such as feature engineering, feature scaling, outlier detection, discretization, etc.\n",
        "* TensorFlow: is one of the most frequently used libraries for deep learning. TensorFlow has been developed by Google and offers an easy to use API for the development of various deep learning models.\n",
        "* Keras: is a high-level TensorFlow library that implements complex TensorFlow functionalities under the hood. If you are a newbie to deep learning, Keras is the one deep learning library that you should start for developing deep learning library.Keras is a high-level TensorFlow library that implements complex TensorFlow functionalities under the hood. If you are a newbie to deep learning, Keras is the one deep learning library that you should start for developing deep learning library."
      ],
      "metadata": {
        "id": "pWp1iUWY6vM5"
      }
    },
    {
      "cell_type": "markdown",
      "source": [
        "**Chapter Three:** NumPy Library for Data Analysis"
      ],
      "metadata": {
        "id": "pdT_qIcY9W01"
      }
    }
  ]
}